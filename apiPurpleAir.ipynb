{
 "cells": [
  {
   "cell_type": "code",
   "execution_count": 4,
   "metadata": {},
   "outputs": [],
   "source": [
    "import pandas as pd\n",
    "from purpleair import PurpleAir\n",
    "\n",
    "key = PurpleAir('595CBAA0-0888-11EF-B9F7-42010A80000D')\n",
    "sensor_data = key.get_sensor_history(sensor_index=206183, fields=('temperature', 'pressure', 'humidity'))\n",
    "\n",
    "data = {\n",
    "    'time_stamp': [],\n",
    "    'humidity': [],\n",
    "    'temperature': [],\n",
    "    'pressure': []\n",
    "}\n",
    "\n",
    "for entry in sensor_data['data']:\n",
    "    data['time_stamp'].append(entry[0])\n",
    "    data['humidity'].append(entry[1])\n",
    "    data['temperature'].append(entry[2])\n",
    "    data['pressure'].append(entry[3])\n",
    "\n",
    "df = pd.DataFrame(data)\n",
    "\n",
    "df.to_csv('sensor_data.csv', index=False)"
   ]
  },
  {
   "cell_type": "code",
   "execution_count": null,
   "metadata": {},
   "outputs": [],
   "source": []
  }
 ],
 "metadata": {
  "kernelspec": {
   "display_name": "Python 3",
   "language": "python",
   "name": "python3"
  },
  "language_info": {
   "codemirror_mode": {
    "name": "ipython",
    "version": 3
   },
   "file_extension": ".py",
   "mimetype": "text/x-python",
   "name": "python",
   "nbconvert_exporter": "python",
   "pygments_lexer": "ipython3",
   "version": "3.11.8"
  }
 },
 "nbformat": 4,
 "nbformat_minor": 2
}
