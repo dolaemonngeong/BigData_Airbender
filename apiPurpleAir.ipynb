{
 "cells": [
  {
   "cell_type": "code",
   "execution_count": 1,
   "metadata": {},
   "outputs": [],
   "source": [
    "import pandas as pd\n",
    "from purpleair import PurpleAir\n",
    "\n",
    "key = PurpleAir('8F3F7959-1D8B-11EF-B9F7-42010A80000D')\n",
    "sensor_data = key.get_sensor_history(sensor_index=206183, fields=('humidity', 'temperature', 'pressure','voc','pm2.5_alt','0.3_um_count','0.5_um_count','1.0_um_count','2.5_um_count','5.0_um_count','10.0_um_count'))\n",
    "\n",
    "data = {\n",
    "    'time_stamp': [],\n",
    "    'humidity': [],\n",
    "    'temperature': [],\n",
    "    'pressure': [],\n",
    "    'voc': [],\n",
    "    'pm2.5_alt': [],\n",
    "    '0.3_um_count': [],\n",
    "    '0.5_um_count': [],\n",
    "    '1.0_um_count': [],\n",
    "    '2.5_um_count': [],\n",
    "    '5.0_um_count': [],\n",
    "    '10.0_um_count': [],\n",
    "}\n",
    "\n",
    "for entry in sensor_data['data']:\n",
    "    data['time_stamp'].append(entry[0])\n",
    "    data['humidity'].append(entry[1])\n",
    "    data['temperature'].append(entry[2])\n",
    "    data['pressure'].append(entry[3])\n",
    "    data['voc'].append(entry[4])\n",
    "    data['pm2.5_alt'].append(entry[5])\n",
    "    data['0.3_um_count'].append(entry[5])\n",
    "    data['0.5_um_count'].append(entry[6])\n",
    "    data['1.0_um_count'].append(entry[7])\n",
    "    data['2.5_um_count'].append(entry[8])\n",
    "    data['5.0_um_count'].append(entry[9])\n",
    "    data['10.0_um_count'].append(entry[10])\n",
    "\n",
    "df = pd.DataFrame(data)\n",
    "\n",
    "df.to_csv('new_sensor_data.csv', index=False)"
   ]
  },
  {
   "cell_type": "code",
   "execution_count": null,
   "metadata": {},
   "outputs": [],
   "source": []
  }
 ],
 "metadata": {
  "kernelspec": {
   "display_name": "Python 3",
   "language": "python",
   "name": "python3"
  },
  "language_info": {
   "codemirror_mode": {
    "name": "ipython",
    "version": 3
   },
   "file_extension": ".py",
   "mimetype": "text/x-python",
   "name": "python",
   "nbconvert_exporter": "python",
   "pygments_lexer": "ipython3",
   "version": "3.11.8"
  }
 },
 "nbformat": 4,
 "nbformat_minor": 2
}
